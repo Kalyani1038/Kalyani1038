{
  "nbformat": 4,
  "nbformat_minor": 0,
  "metadata": {
    "colab": {
      "provenance": [],
      "authorship_tag": "ABX9TyPBJNmfdade92YubQQXEnsl",
      "include_colab_link": true
    },
    "kernelspec": {
      "name": "python3",
      "display_name": "Python 3"
    },
    "language_info": {
      "name": "python"
    }
  },
  "cells": [
    {
      "cell_type": "markdown",
      "metadata": {
        "id": "view-in-github",
        "colab_type": "text"
      },
      "source": [
        "<a href=\"https://colab.research.google.com/github/Kalyani1038/Kalyani1038/blob/main/2205A21038_Ass_09.ipynb\" target=\"_parent\"><img src=\"https://colab.research.google.com/assets/colab-badge.svg\" alt=\"Open In Colab\"/></a>"
      ]
    },
    {
      "cell_type": "code",
      "execution_count": 3,
      "metadata": {
        "colab": {
          "base_uri": "https://localhost:8080/"
        },
        "id": "A2W2Iv8Qi83W",
        "outputId": "7d355e66-1ec0-4932-8d12-5bcf4ae5a4dc"
      },
      "outputs": [
        {
          "output_type": "stream",
          "name": "stdout",
          "text": [
            "enter hall ticket no.101\n",
            "==========================\n",
            "   KINDERLAND SCHOOL      \n",
            "     SCORE CARD           \n",
            "==========================\n",
            "Roll No: 101\n",
            "Telugu: 23\n",
            "English: 34\n",
            "Hindi: 45\n",
            "Maths: 56\n",
            "Science: 76\n",
            "Social: 87\n",
            "=========================\n",
            "     Results Status      \n",
            "=========================\n",
            "Fail\n",
            "Failed subjects:\n",
            "Telugu\n",
            "English\n"
          ]
        }
      ],
      "source": [
        "import numpy as np\n",
        "marks=np.array([[101,35,98,43,65,78,96],[102,87,45,98,65,34,78],[103,45,26,78,45,67,34],[104,4,56,67,78,89,90],[105,23,34,45,56,76,87]])\n",
        "students=marks.shape[0]\n",
        "\n",
        "Hall_Ticket_No=(input(\"enter hall ticket no.\"))\n",
        "for i in range(students):\n",
        "  if(Hall_Ticket_No==marks[i,0]):\n",
        "    break\n",
        "index=i\n",
        "\n",
        "marks_percentage=np.sum(marks[index,1:marks.shape[1]])*100/600\n",
        "\n",
        "count=0\n",
        "failed_sub=[]\n",
        "for i in range(1,marks.shape[1]):\n",
        "  if(marks[index,i]<35):\n",
        "    count=count+1\n",
        "    failed_sub.append(i)\n",
        "\n",
        "print(\"==========================\")\n",
        "print(\"   KINDERLAND SCHOOL      \")\n",
        "print(\"     SCORE CARD           \")\n",
        "print(\"==========================\")\n",
        "print(\"Roll No:\",Hall_Ticket_No)\n",
        "print(\"Telugu:\",marks[index,1])\n",
        "print(\"English:\",marks[index,2])\n",
        "print(\"Hindi:\",marks[index,3])\n",
        "print(\"Maths:\",marks[index,4])\n",
        "print(\"Science:\",marks[index,5])\n",
        "print(\"Social:\",marks[index,6])\n",
        "print(\"=========================\")\n",
        "print(\"     Results Status      \")\n",
        "print(\"=========================\")\n",
        "if (count>0):\n",
        "  print(\"Fail\")\n",
        "  print(\"Failed subjects:\",)\n",
        "  for i in range(len(failed_sub)):\n",
        "    if(failed_sub[i]==1):\n",
        "      print(\"Telugu\")\n",
        "    if(failed_sub[i]==2):\n",
        "      print(\"English\")\n",
        "    if(failed_sub[i]==3):\n",
        "      print(\"Hindi\")\n",
        "    if(failed_sub[i]==4):\n",
        "      print(\"Maths\")\n",
        "    if(failed_sub[i]==5):\n",
        "      print(\"Scince\")\n",
        "    if(failed_sub[i]==6):\n",
        "      print(\"Social\")\n",
        "else:\n",
        "  print(\"Pass\")\n",
        "  print(\"Percentage of marks:\",np.round(marks_percentage))\n",
        "  print(\"========================\")"
      ]
    }
  ]
}